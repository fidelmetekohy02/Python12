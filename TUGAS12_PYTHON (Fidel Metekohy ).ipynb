{
  "nbformat": 4,
  "nbformat_minor": 0,
  "metadata": {
    "colab": {
      "name": "Untitled2.ipynb",
      "provenance": [],
      "authorship_tag": "ABX9TyMzzlMKJSPnKOFdKdg3A66J",
      "include_colab_link": true
    },
    "kernelspec": {
      "name": "python3",
      "display_name": "Python 3"
    }
  },
  "cells": [
    {
      "cell_type": "markdown",
      "metadata": {
        "id": "view-in-github",
        "colab_type": "text"
      },
      "source": [
        "<a href=\"https://colab.research.google.com/github/fidelmetekohy02/Python12/blob/main/TUGAS12_PYTHON%20(Fidel%20Metekohy%20).ipynb\" target=\"_parent\"><img src=\"https://colab.research.google.com/assets/colab-badge.svg\" alt=\"Open In Colab\"/></a>"
      ]
    },
    {
      "cell_type": "markdown",
      "metadata": {
        "id": "jI-an3XRC4wq"
      },
      "source": [
        "**TUGAS PYTHON PERTEMUAN 12**"
      ]
    },
    {
      "cell_type": "markdown",
      "metadata": {
        "id": "boB3YhedDHPB"
      },
      "source": [
        "Fidel Alessandro Metekohy 1101208226 TTX_44-01"
      ]
    },
    {
      "cell_type": "code",
      "metadata": {
        "id": "5IEp51ABvqRW"
      },
      "source": [
        "import numpy as np"
      ],
      "execution_count": 18,
      "outputs": []
    },
    {
      "cell_type": "code",
      "metadata": {
        "id": "KkDimVXhDe88"
      },
      "source": [
        "def PathLoss(fc, hT, hR, d, area):\r\n",
        "\r\n",
        "  #nilai c1 & c2\r\n",
        "  if fc >= 400000 and fc <= 1500000:\r\n",
        "      c1 = 69.55\r\n",
        "      c2 = 26.16\r\n",
        "  elif fc > 1500000 and fc <= 2000000:\r\n",
        "      c1 = 46.3\r\n",
        "      c2 = 33.9\r\n",
        "\r\n",
        "  #nilai cm\r\n",
        "  if area == \"urban\":\r\n",
        "    cm = 0\r\n",
        "  elif area == \"suburban\" :\r\n",
        "    cm = -2*(np.log10(fc/28))**2 - 5.4\r\n",
        "  elif area == \"open\" :\r\n",
        "    cm = -4.78*(np.log10(fc))**2 + (18.33*np.log10(fc)) - 40.94\r\n",
        "\r\n",
        "  \r\n",
        "  ahR = ((1.1*np.log10(fc)) - 0.7 )*(hR) - ((1.56*np.log10(fc)) - 0.8)\r\n",
        "  Lp = c1 + c2*np.log10(fc) - 13.83*np.log10(hT) - (ahR) + (44.9 - 6.55*np.log10(hT))*np.log10(d) + cm\r\n",
        "  return Lp"
      ],
      "execution_count": 19,
      "outputs": []
    },
    {
      "cell_type": "code",
      "metadata": {
        "colab": {
          "base_uri": "https://localhost:8080/"
        },
        "id": "pZTYu1PXGQfz",
        "outputId": "406e3ddf-ecb6-4387-f598-46c187f7741e"
      },
      "source": [
        "PL = PathLoss(1600000, 150, 15, 3, \"open\")\r\n",
        "print (\"Pathloss : \", PL, \"dB\")"
      ],
      "execution_count": 21,
      "outputs": [
        {
          "output_type": "stream",
          "text": [
            "Pathloss :  46.95095661150266 dB\n"
          ],
          "name": "stdout"
        }
      ]
    }
  ]
}